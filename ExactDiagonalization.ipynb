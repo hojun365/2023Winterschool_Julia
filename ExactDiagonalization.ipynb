{
 "cells": [
  {
   "cell_type": "code",
   "execution_count": null,
   "metadata": {},
   "outputs": [],
   "source": [
    "include(\"exact.jl\")\n",
    "using .Exact\n",
    "using Combinatorics\n",
    "\n",
    "const U=0\n",
    "const μ=U/2\n",
    "const nx = 3\n",
    "const ny = 4\n",
    "const β=100.0\n",
    "const tri_periodic_x = false\n",
    "const tri_periodic_y = false\n",
    "const fulldiag = false\n",
    "const nfix = true\n",
    "#c = [i for i in 1:5]\n",
    "#println(c)\n",
    "#baseup = collect(Combinatorics.combinations(c,2))\n",
    "#println(typeof(baseup))\n",
    "#println(baseup)\n",
    "#baseup=map(x -> x+10,baseup)\n",
    "#println(baseup)\n",
    "#println(findfirst([[1,2],[4,2],[3,5],[3,1],[5,2]],[5,2]))\n",
    "\n",
    "\n",
    "#for xs in Combinatorics.combinations(c,2)\n",
    "#    #println(xs)\n",
    "#end\n",
    "\n",
    "Exact.exact_main!(U,μ,nx,ny,β,tri_periodic_x,tri_periodic_y,fulldiag,nfix)"
   ]
  },
  {
   "cell_type": "code",
   "execution_count": 2,
   "metadata": {},
   "outputs": [
    {
     "name": "stderr",
     "output_type": "stream",
     "text": [
      "\u001b[33m\u001b[1m┌ \u001b[22m\u001b[39m\u001b[33m\u001b[1mWarning: \u001b[22m\u001b[39mcould not download https://pkg.julialang.org/registries\n",
      "\u001b[33m\u001b[1m│ \u001b[22m\u001b[39m  exception = HTTP/1.1 301 East Asia -> KR internal redirect trigger (Failed to connect to kr.pkg.julialang.org port 443 after 2683 ms: Connection refused) while requesting https://pkg.julialang.org/registries\n",
      "\u001b[33m\u001b[1m└ \u001b[22m\u001b[39m\u001b[90m@ Pkg.Registry C:\\workdir\\usr\\share\\julia\\stdlib\\v1.8\\Pkg\\src\\Registry\\Registry.jl:68\u001b[39m\n",
      "\u001b[32m\u001b[1m    Updating\u001b[22m\u001b[39m registry at `C:\\Users\\admin\\.julia\\registries\\General.toml`\n"
     ]
    },
    {
     "ename": "LoadError",
     "evalue": "The following package names could not be resolved:\n * Exact (not found in project, manifest or registry)\n\u001b[36m   Suggestions:\u001b[39m \u001b[0m\u001b[1mE\u001b[22m\u001b[0m\u001b[1mx\u001b[22m\u001b[0m\u001b[1ma\u001b[22m\u001b[0m\u001b[1mc\u001b[22m\u001b[0m\u001b[1mt\u001b[22mReals \u001b[0m\u001b[1mE\u001b[22m\u001b[0m\u001b[1mx\u001b[22m\u001b[0m\u001b[1ma\u001b[22m\u001b[0m\u001b[1mc\u001b[22m\u001b[0m\u001b[1mt\u001b[22mPredicates \u001b[0m\u001b[1mE\u001b[22m\u001b[0m\u001b[1mx\u001b[22m\u001b[0m\u001b[1ma\u001b[22m\u001b[0m\u001b[1mc\u001b[22m\u001b[0m\u001b[1mt\u001b[22mConvolution \u001b[0m\u001b[1mE\u001b[22m\u001b[0m\u001b[1mx\u001b[22m\u001b[0m\u001b[1ma\u001b[22m\u001b[0m\u001b[1mc\u001b[22m\u001b[0m\u001b[1mt\u001b[22mConversions",
     "output_type": "error",
     "traceback": [
      "The following package names could not be resolved:\n * Exact (not found in project, manifest or registry)\n\u001b[36m   Suggestions:\u001b[39m \u001b[0m\u001b[1mE\u001b[22m\u001b[0m\u001b[1mx\u001b[22m\u001b[0m\u001b[1ma\u001b[22m\u001b[0m\u001b[1mc\u001b[22m\u001b[0m\u001b[1mt\u001b[22mReals \u001b[0m\u001b[1mE\u001b[22m\u001b[0m\u001b[1mx\u001b[22m\u001b[0m\u001b[1ma\u001b[22m\u001b[0m\u001b[1mc\u001b[22m\u001b[0m\u001b[1mt\u001b[22mPredicates \u001b[0m\u001b[1mE\u001b[22m\u001b[0m\u001b[1mx\u001b[22m\u001b[0m\u001b[1ma\u001b[22m\u001b[0m\u001b[1mc\u001b[22m\u001b[0m\u001b[1mt\u001b[22mConvolution \u001b[0m\u001b[1mE\u001b[22m\u001b[0m\u001b[1mx\u001b[22m\u001b[0m\u001b[1ma\u001b[22m\u001b[0m\u001b[1mc\u001b[22m\u001b[0m\u001b[1mt\u001b[22mConversions",
      "",
      "Stacktrace:",
      "  [1] pkgerror(msg::String)",
      "    @ Pkg.Types C:\\Users\\admin\\AppData\\Local\\Programs\\Julia-1.8.4\\share\\julia\\stdlib\\v1.8\\Pkg\\src\\Types.jl:67",
      "  [2] ensure_resolved(ctx::Pkg.Types.Context, manifest::Pkg.Types.Manifest, pkgs::Vector{Pkg.Types.PackageSpec}; registry::Bool)",
      "    @ Pkg.Types C:\\Users\\admin\\AppData\\Local\\Programs\\Julia-1.8.4\\share\\julia\\stdlib\\v1.8\\Pkg\\src\\Types.jl:952",
      "  [3] add(ctx::Pkg.Types.Context, pkgs::Vector{Pkg.Types.PackageSpec}; preserve::Pkg.Types.PreserveLevel, platform::Base.BinaryPlatforms.Platform, kwargs::Base.Pairs{Symbol, IJulia.IJuliaStdio{Base.PipeEndpoint}, Tuple{Symbol}, NamedTuple{(:io,), Tuple{IJulia.IJuliaStdio{Base.PipeEndpoint}}}})",
      "    @ Pkg.API C:\\Users\\admin\\AppData\\Local\\Programs\\Julia-1.8.4\\share\\julia\\stdlib\\v1.8\\Pkg\\src\\API.jl:264",
      "  [4] add(pkgs::Vector{Pkg.Types.PackageSpec}; io::IJulia.IJuliaStdio{Base.PipeEndpoint}, kwargs::Base.Pairs{Symbol, Union{}, Tuple{}, NamedTuple{(), Tuple{}}})",
      "    @ Pkg.API C:\\Users\\admin\\AppData\\Local\\Programs\\Julia-1.8.4\\share\\julia\\stdlib\\v1.8\\Pkg\\src\\API.jl:156",
      "  [5] add(pkgs::Vector{Pkg.Types.PackageSpec})",
      "    @ Pkg.API C:\\Users\\admin\\AppData\\Local\\Programs\\Julia-1.8.4\\share\\julia\\stdlib\\v1.8\\Pkg\\src\\API.jl:145",
      "  [6] #add#27",
      "    @ C:\\Users\\admin\\AppData\\Local\\Programs\\Julia-1.8.4\\share\\julia\\stdlib\\v1.8\\Pkg\\src\\API.jl:144 [inlined]",
      "  [7] add",
      "    @ C:\\Users\\admin\\AppData\\Local\\Programs\\Julia-1.8.4\\share\\julia\\stdlib\\v1.8\\Pkg\\src\\API.jl:144 [inlined]",
      "  [8] #add#26",
      "    @ C:\\Users\\admin\\AppData\\Local\\Programs\\Julia-1.8.4\\share\\julia\\stdlib\\v1.8\\Pkg\\src\\API.jl:143 [inlined]",
      "  [9] add(pkg::String)",
      "    @ Pkg.API C:\\Users\\admin\\AppData\\Local\\Programs\\Julia-1.8.4\\share\\julia\\stdlib\\v1.8\\Pkg\\src\\API.jl:143",
      " [10] top-level scope",
      "    @ In[2]:1"
     ]
    }
   ],
   "source": [
    "import Pkg; Pkg.add(\"Exact\")"
   ]
  },
  {
   "cell_type": "code",
   "execution_count": null,
   "metadata": {},
   "outputs": [],
   "source": []
  }
 ],
 "metadata": {
  "kernelspec": {
   "display_name": "Julia 1.8.4",
   "language": "julia",
   "name": "julia-1.8"
  },
  "language_info": {
   "file_extension": ".jl",
   "mimetype": "application/julia",
   "name": "julia",
   "version": "1.8.4"
  }
 },
 "nbformat": 4,
 "nbformat_minor": 2
}
