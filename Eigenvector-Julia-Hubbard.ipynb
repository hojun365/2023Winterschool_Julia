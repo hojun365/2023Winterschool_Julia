{
 "cells": [
  {
   "cell_type": "code",
   "execution_count": 10,
   "id": "43494cb3",
   "metadata": {},
   "outputs": [],
   "source": [
    "using LinearAlgebra"
   ]
  },
  {
   "cell_type": "code",
   "execution_count": 12,
   "id": "ce2b6389",
   "metadata": {},
   "outputs": [
    {
     "ename": "LoadError",
     "evalue": "UndefVarError: t not defined",
     "output_type": "error",
     "traceback": [
      "UndefVarError: t not defined",
      "",
      "Stacktrace:",
      " [1] top-level scope",
      "   @ In[12]:1"
     ]
    }
   ],
   "source": [
    "A = [ 0 0 0 0 ; 0 0 0 -t;  0 -t 0 0; 0 0 0 U ]"
   ]
  },
  {
   "cell_type": "code",
   "execution_count": 13,
   "id": "e29d412a",
   "metadata": {},
   "outputs": [
    {
     "data": {
      "text/plain": [
       "1"
      ]
     },
     "execution_count": 13,
     "metadata": {},
     "output_type": "execute_result"
    }
   ],
   "source": [
    "t=1"
   ]
  },
  {
   "cell_type": "code",
   "execution_count": 14,
   "id": "72432a1f",
   "metadata": {},
   "outputs": [
    {
     "data": {
      "text/plain": [
       "1"
      ]
     },
     "execution_count": 14,
     "metadata": {},
     "output_type": "execute_result"
    }
   ],
   "source": [
    "U=1"
   ]
  },
  {
   "cell_type": "code",
   "execution_count": 17,
   "id": "7b0a0bb3",
   "metadata": {},
   "outputs": [
    {
     "data": {
      "text/plain": [
       "4×4 Matrix{Int64}:\n",
       " 0   0   0  0\n",
       " 0   0  -1  0\n",
       " 0  -1   0  0\n",
       " 0   0   0  1"
      ]
     },
     "execution_count": 17,
     "metadata": {},
     "output_type": "execute_result"
    }
   ],
   "source": [
    "A = [ 0 0 0 0 ; 0 0 -t 0;  0 -t 0 0; 0 0 0 U ]"
   ]
  },
  {
   "cell_type": "code",
   "execution_count": 18,
   "id": "8b0f5b67",
   "metadata": {},
   "outputs": [
    {
     "data": {
      "text/plain": [
       "4-element Vector{Float64}:\n",
       " -1.0\n",
       "  0.0\n",
       "  1.0\n",
       "  1.0"
      ]
     },
     "execution_count": 18,
     "metadata": {},
     "output_type": "execute_result"
    }
   ],
   "source": [
    "eigvals(A)"
   ]
  },
  {
   "cell_type": "code",
   "execution_count": 19,
   "id": "1a170113",
   "metadata": {},
   "outputs": [
    {
     "data": {
      "text/plain": [
       "4×4 Matrix{Float64}:\n",
       " 0.0       1.0   0.0       0.0\n",
       " 0.707107  0.0  -0.707107  0.0\n",
       " 0.707107  0.0   0.707107  0.0\n",
       " 0.0       0.0   0.0       1.0"
      ]
     },
     "execution_count": 19,
     "metadata": {},
     "output_type": "execute_result"
    }
   ],
   "source": [
    "eigvecs(A)"
   ]
  },
  {
   "cell_type": "code",
   "execution_count": null,
   "id": "f680e05a",
   "metadata": {},
   "outputs": [],
   "source": []
  }
 ],
 "metadata": {
  "kernelspec": {
   "display_name": "Julia 1.8.4",
   "language": "julia",
   "name": "julia-1.8"
  },
  "language_info": {
   "file_extension": ".jl",
   "mimetype": "application/julia",
   "name": "julia",
   "version": "1.8.4"
  }
 },
 "nbformat": 4,
 "nbformat_minor": 5
}
