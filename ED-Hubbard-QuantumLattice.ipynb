{
 "cells": [
  {
   "cell_type": "code",
   "execution_count": 9,
   "id": "0d511754",
   "metadata": {},
   "outputs": [
    {
     "name": "stdout",
     "output_type": "stream",
     "text": [
      "[-4.0]"
     ]
    }
   ],
   "source": [
    "using QuantumLattices\n",
    "\n",
    "using ExactDiagonalization\n",
    "\n",
    "using LinearAlgebra: eigen\n",
    "\n",
    "# define the unitcell of the square lattice\n",
    "\n",
    "unitcell = Lattice([0.0, 0.0]; name=:Square, vectors=[[1.0, 0.0], [0.0, 1.0]])\n",
    "\n",
    "# define a finite 3×4 cluster of the square lattice with open boundary condition\n",
    "\n",
    "#lattice = Lattice(unitcell, (3, 4))\n",
    "\n",
    "lattice = Lattice(unitcell, (2, 2))\n",
    "\n",
    "# define the Hilbert space (single-orbital spin-1/2 complex fermion)\n",
    "\n",
    "hilbert = Hilbert(site=>Fock{:f}(1, 2) for site=1:length(lattice))\n",
    "\n",
    "# define the binary bases of the a half-filled system on the above cluster\n",
    "\n",
    "bases = BinaryBases(1:4, 2) ⊗ BinaryBases(5:8, 2)\n",
    "\n",
    "# define the terms, i.e. the nearest-neighbor hopping and the Hubbard interaction\n",
    "\n",
    "t = Hopping(:t, -1.0, 1)\n",
    "\n",
    "U = Hubbard(:U, 0.0)\n",
    "\n",
    "# define the exact diagonalization algorithm for the Fermi Hubbard model\n",
    "\n",
    "ed = ED(lattice, hilbert, (t, U), TargetSpace(bases))\n",
    "\n",
    "# find the ground state and its energy\n",
    "\n",
    "eigensystem = eigen(matrix(ed); nev=1)\n",
    "\n",
    "# Ground state energy should be -4.913259209075605\n",
    "\n",
    "print(eigensystem.values)"
   ]
  },
  {
   "cell_type": "code",
   "execution_count": null,
   "id": "d623bccc",
   "metadata": {},
   "outputs": [],
   "source": []
  }
 ],
 "metadata": {
  "kernelspec": {
   "display_name": "Julia 1.8.4",
   "language": "julia",
   "name": "julia-1.8"
  },
  "language_info": {
   "file_extension": ".jl",
   "mimetype": "application/julia",
   "name": "julia",
   "version": "1.8.4"
  }
 },
 "nbformat": 4,
 "nbformat_minor": 5
}
